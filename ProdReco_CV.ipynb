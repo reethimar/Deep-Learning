{
 "cells": [
  {
   "cell_type": "code",
   "execution_count": 1,
   "metadata": {},
   "outputs": [],
   "source": [
    "import pandas as pd\n",
    "import numpy as np\n",
    "from scipy import sparse\n",
    "from sklearn.metrics.pairwise import cosine_similarity\n",
    "import seaborn as sns\n",
    "import matplotlib.pyplot as plt"
   ]
  },
  {
   "cell_type": "code",
   "execution_count": 3,
   "metadata": {},
   "outputs": [
    {
     "name": "stdout",
     "output_type": "stream",
     "text": [
      "(105, 3)\n",
      "(70, 3)\n",
      "(175, 3)\n",
      "(40, 84)\n",
      "Precision :0.7438423645320197\n",
      "Recall :0.27504105090311987\n",
      "F1-Score:0.401590962317851\n"
     ]
    }
   ],
   "source": [
    "#Read the csv File\n",
    "df = pd.read_csv('C:/Users/reraveen/Jupyter/Dataset/ORMB_Data_version.csv',na_values ='')\n",
    "dfprocessed =df.groupby(['PERSON_ID', 'PRICEITEM_CD']).size().reset_index().rename(columns={0:'Score'})\n",
    "train=dfprocessed.sample(frac=0.60,random_state=123) #random state is a seed value\n",
    "test_Actual=dfprocessed.drop(train.index)\n",
    "print(train.shape)\n",
    "test = test_Actual.copy()\n",
    "print(test.shape)\n",
    "#Convert already bought product score to 0 for testing purpose\n",
    "test.loc[:, 'Score'] =0\n",
    "testDataset = pd.concat([train,test], ignore_index=True)\n",
    "print(testDataset.shape)\n",
    "TableCustItem =testDataset.pivot(index='PERSON_ID', columns='PRICEITEM_CD', values='Score')\n",
    "TableCustItem =TableCustItem.replace(np.nan,0)\n",
    "print(TableCustItem.shape)\n",
    "\n",
    "df_crossTabedold = pd.crosstab(df.PERSON_ID, df.PRICEITEM_CD).reset_index().rename_axis('',axis='columns') \n",
    "df_crossTabedold.shape\n",
    "TableCustItem =TableCustItem.merge(df_crossTabedold[\"PERSON_ID\"], on='PERSON_ID', how='left')\n",
    "df_crossTabed=TableCustItem\n",
    "df_crossTabed1 = df_crossTabed.drop('PERSON_ID', 1)\n",
    "df_crossTabed1.head()\n",
    "df_crossTabed1.shape\n",
    "\n",
    "magnitude = np.sqrt(np.square(df_crossTabed1).sum(axis=1))\n",
    "df_crossTabed2 = df_crossTabed1.divide(magnitude, axis='index')\n",
    "df_crossTabed2 =df_crossTabed2.replace(np.nan,0)\n",
    "\n",
    "def calculate_similarity(data_items):\n",
    "    \"\"\"Calculate the column-wise cosine similarity for a sparse\n",
    "    matrix. Return a new dataframe matrix with similarities.\n",
    "    \"\"\"\n",
    "    data_sparse = sparse.csr_matrix(data_items)\n",
    "    similarities = cosine_similarity(data_sparse.transpose())\n",
    "    sim = pd.DataFrame(data=similarities, index= data_items.columns, columns= data_items.columns)\n",
    "    return sim\n",
    "\n",
    "data_matrix = calculate_similarity(df_crossTabed2)\n",
    "data_matrix=data_matrix.replace(np.nan,0)\n",
    "scoredf = data_matrix.dot(df_crossTabed2.T)\n",
    "scoredf =scoredf.T\n",
    "scoredf=scoredf.div(data_matrix.sum(axis=1))\n",
    "scoredf=scoredf.replace(np.nan,0)\n",
    "Bought_df=df_crossTabed2.where(df_crossTabed2==0,-999999)\n",
    "recommd_df=Bought_df.where(Bought_df != 0,scoredf)\n",
    "top_n = 7\n",
    "df_final = pd.DataFrame({n: recommd_df.T[col].nlargest(top_n).index.tolist() \n",
    "                for n, col in enumerate(recommd_df.T)}).T\n",
    "\n",
    "new_col =df_crossTabed['PERSON_ID']\n",
    "df_final.insert(0,'PERSON_ID',new_col,True)\n",
    "df_final\n",
    "\n",
    "test_Actual_cross = pd.crosstab(test_Actual.PERSON_ID, test_Actual.PRICEITEM_CD).reset_index().rename_axis('',axis='columns') \n",
    "test_Actual_cross\n",
    "\n",
    "testPersonId=test_Actual_cross['PERSON_ID']\n",
    "test_Actual_cross=test_Actual_cross.drop(['PERSON_ID'],axis=1)\n",
    "\n",
    "\n",
    "\n",
    "test_Actual_cross_df=test_Actual_cross.where(test_Actual_cross==0,-999999)\n",
    "test_Actual_cross_df\n",
    "\n",
    "Actual_BoughtList = (test_Actual_cross_df == -999999).sum(axis=1)\n",
    "Actual_BoughtList\n",
    "\n",
    "top_n = 7\n",
    "Test_final = pd.DataFrame({n:test_Actual_cross.T[col].nlargest(top_n).index.tolist() \n",
    "                for n, col in enumerate(test_Actual_cross.T)}).T\n",
    "\n",
    "Test_final.insert(0,'PERSON_ID',testPersonId,True)\n",
    "MeredDf = Test_final.merge(df_final, on=\"PERSON_ID\", how = 'inner')\n",
    "MeredDf_Selected = MeredDf.loc[:,MeredDf.columns != 'PERSON_ID']\n",
    "MeredDf['num_uniq'] = [len(set(v[pd.notna(v)].tolist())) for v in MeredDf_Selected.values]\n",
    "MeredDf['num_uniq']=14-MeredDf['num_uniq']\n",
    "MeredDf['precision']=MeredDf['num_uniq']/7\n",
    "meanprecision = MeredDf['precision'].mean()\n",
    "print(\"Precision :\"+str(meanprecision))\n",
    "rowCount =len(Test_final.index)\n",
    "MeredDf['ActualBought']=Actual_BoughtList\n",
    "actalBoughtCommon=[]\n",
    "for j in range(0,rowCount):\n",
    "    elements=[]\n",
    "    actalCommon=0\n",
    "    actualBought = Actual_BoughtList[j]\n",
    "    eval_Value =7\n",
    "    startindex = 7+1\n",
    "    endInx =eval_Value*2+1\n",
    "    elements.extend(Test_final.iloc[j,1:actualBought+1])\n",
    "    elements.extend(MeredDf.iloc[j,startindex:endInx])\n",
    "    a_set = set(elements)\n",
    "    number_unique = len(a_set)\n",
    "    actalCommon = (actualBought+eval_Value)-number_unique\n",
    "    actalBoughtCommon.append(actalCommon)\n",
    "actalBoughtCommon\n",
    "\n",
    "MeredDf['ActualBoughtPredicted']=actalBoughtCommon\n",
    "MeredDf['Recall']=MeredDf['ActualBoughtPredicted']/MeredDf['num_uniq']\n",
    "meanrecall=MeredDf['Recall'].mean()\n",
    "print(\"Recall :\"+str(meanrecall))\n",
    "mean_f1score = 2*(meanrecall*meanprecision)/(meanrecall+meanprecision)\n",
    "print(\"F1-Score:\"+str(mean_f1score))"
   ]
  },
  {
   "cell_type": "code",
   "execution_count": null,
   "metadata": {},
   "outputs": [],
   "source": [
    "\n",
    "new_col =df_crossTabed['PERSON_ID']\n",
    "recommd_df.insert(0,'PERSON_ID',new_col,True)\n",
    "recommd_df"
   ]
  },
  {
   "cell_type": "code",
   "execution_count": null,
   "metadata": {},
   "outputs": [],
   "source": [
    "top_n = 10\n",
    "pd.DataFrame({n: recommd_df.T[col].nlargest(top_n).index.tolist() \n",
    "    for n, col in enumerate(recommd_df.T)}).T"
   ]
  },
  {
   "cell_type": "code",
   "execution_count": null,
   "metadata": {},
   "outputs": [],
   "source": [
    "(pd.melt(recommd_df.reset_index(), var_name='Predicted_Score', value_name='Items', id_vars='PERSON_ID')\n",
    "          .set_index('PERSON_ID'))"
   ]
  },
  {
   "cell_type": "code",
   "execution_count": null,
   "metadata": {},
   "outputs": [],
   "source": [
    "print (recommd_df.stack().reset_index(level=1, name='Items')\n",
    "                 .rename(columns={'level_1':'Predicted_Score'})[['Items','Predicted_Score']])"
   ]
  },
  {
   "cell_type": "code",
   "execution_count": null,
   "metadata": {},
   "outputs": [],
   "source": [
    "#Recommendation Function\n",
    "def recommended_product(CustomerNo,Nproducts,recommd_df):\n",
    "    data_items = recommd_df.drop('PERSON_ID', 1)\n",
    "    user_index = recommd_df[recommd_df.PERSON_ID == CustomerNo].index.tolist()[0]\n",
    "    rating = data_items.loc[user_index] \n",
    "    recommend_products=rating.nlargest(Nproducts)\n",
    "    #print(recommend_products.index)\n",
    "    #print(recommend_products.values)\n",
    "    return  recommend_products"
   ]
  },
  {
   "cell_type": "code",
   "execution_count": null,
   "metadata": {},
   "outputs": [],
   "source": [
    "#Recommendation for the given customerNo\n",
    "recommended_product('72231957',10,recommd_df)"
   ]
  },
  {
   "cell_type": "code",
   "execution_count": null,
   "metadata": {},
   "outputs": [],
   "source": [
    "df_crossTabed['PERSON_ID'] = df_crossTabed.PERSON_ID.astype(str)"
   ]
  },
  {
   "cell_type": "code",
   "execution_count": null,
   "metadata": {},
   "outputs": [],
   "source": [
    "def recommended_product(CustomerNo,data,DMatrix,Nproducts):\n",
    "    data_items = data.drop('PERSON_ID', 1)\n",
    "    data_items2 = data_items.divide(magnitude, axis='index')\n",
    "    user_index = data[data.PERSON_ID == CustomerNo].index.tolist()[0]\n",
    "    rating = data_items2.loc[user_index]\n",
    "    known_user_likes = rating[rating >0].index.values\n",
    "    recommend_set = rating[rating==0].index.values\n",
    "    user_rating_vector = data_items2.loc[user_index]\n",
    "    \n",
    "    score = DMatrix.dot(user_rating_vector).div(DMatrix.sum(axis=1))\n",
    "    \n",
    "    recommend_products=score[recommend_set].nlargest(Nproducts)\n",
    "    \n",
    "    return recommend_products"
   ]
  },
  {
   "cell_type": "code",
   "execution_count": null,
   "metadata": {},
   "outputs": [],
   "source": [
    "recommended_product('72231957',df_crossTabed,data_matrix,10)"
   ]
  },
  {
   "cell_type": "code",
   "execution_count": null,
   "metadata": {},
   "outputs": [],
   "source": [
    "test_Old"
   ]
  },
  {
   "cell_type": "code",
   "execution_count": null,
   "metadata": {},
   "outputs": [],
   "source": [
    "recommended_product('2726379162',df_crossTabed,data_matrix,5)"
   ]
  },
  {
   "cell_type": "code",
   "execution_count": null,
   "metadata": {},
   "outputs": [],
   "source": [
    "SIV123                            0.140681\n",
    "DM_P2                             0.117106\n",
    "AB_CCARDS                         0.076253\n",
    "AB_CWN                            0.052254\n",
    "AB_AMF                            0.048927\n",
    "ACCOPENING                        0.040577\n",
    "PAY_DOM_BTB                       0.040577\n",
    "PAY_DOM_URG                       0.040577\n",
    "PAY_INT                           0.040577\n",
    "PAY_DOM                           0.032169\n"
   ]
  },
  {
   "cell_type": "code",
   "execution_count": null,
   "metadata": {},
   "outputs": [],
   "source": []
  },
  {
   "cell_type": "code",
   "execution_count": null,
   "metadata": {},
   "outputs": [],
   "source": []
  },
  {
   "cell_type": "code",
   "execution_count": null,
   "metadata": {},
   "outputs": [],
   "source": []
  },
  {
   "cell_type": "code",
   "execution_count": null,
   "metadata": {},
   "outputs": [],
   "source": [
    "data_processed1"
   ]
  },
  {
   "cell_type": "code",
   "execution_count": null,
   "metadata": {},
   "outputs": [],
   "source": [
    "from sklearn.neighbors import NearestNeighbors\n",
    "import numpy as np\n",
    "#X = np.array([[-1, -1], [-2, -1], [-3, -2], [1, 1], [2, 1], [3, 2]])\n",
    "X=np.array(df_processed1)\n",
    "nbrs = NearestNeighbors(n_neighbors=4, algorithm='auto').fit(X)\n",
    "distances, indices = nbrs.kneighbors(X)\n",
    "indices"
   ]
  },
  {
   "cell_type": "code",
   "execution_count": null,
   "metadata": {},
   "outputs": [],
   "source": []
  },
  {
   "cell_type": "code",
   "execution_count": null,
   "metadata": {},
   "outputs": [],
   "source": [
    "#Implementation with KDTree\n",
    "from sklearn.neighbors import KDTree\n",
    "import numpy as np\n",
    "X=np.array(df_processed1)\n",
    "kdt = KDTree(X, leaf_size=5, metric='euclidean')\n",
    "kdt.query(X, k=4, return_distance=True)"
   ]
  },
  {
   "cell_type": "code",
   "execution_count": null,
   "metadata": {},
   "outputs": [],
   "source": [
    "dist, ind = kdt.query(X[:384], k=3)  \n",
    "print(ind)  # indices of 3 closest neighbors\n",
    "print(dist)  # distances to 3 closest neighbors"
   ]
  },
  {
   "cell_type": "code",
   "execution_count": null,
   "metadata": {},
   "outputs": [],
   "source": [
    "ind"
   ]
  },
  {
   "cell_type": "code",
   "execution_count": null,
   "metadata": {},
   "outputs": [],
   "source": [
    "indList = ind.tolist()"
   ]
  },
  {
   "cell_type": "code",
   "execution_count": null,
   "metadata": {},
   "outputs": [],
   "source": [
    "indList[0]"
   ]
  },
  {
   "cell_type": "code",
   "execution_count": null,
   "metadata": {},
   "outputs": [],
   "source": [
    "simCustIndex = df.loc[indList[0]]"
   ]
  },
  {
   "cell_type": "code",
   "execution_count": null,
   "metadata": {},
   "outputs": [],
   "source": [
    "simCustIdList = simCustIndex['PERSON_ID'].tolist()\n",
    "simCustIdList"
   ]
  },
  {
   "cell_type": "code",
   "execution_count": null,
   "metadata": {},
   "outputs": [],
   "source": [
    " \n",
    "custProddf=df_crossTabed.query(\"PERSON_ID in @simCustIdList\")\n",
    "custProddf"
   ]
  },
  {
   "cell_type": "code",
   "execution_count": null,
   "metadata": {},
   "outputs": [],
   "source": [
    "\n",
    "sklearn.metrics.pairwise.pairwise_distances\n",
    "pairwise_distances(X, Y=None, metric='euclidean', n_jobs=1, **kwds)"
   ]
  },
  {
   "cell_type": "code",
   "execution_count": null,
   "metadata": {},
   "outputs": [],
   "source": [
    "from sklearn.cluster import KMeans\n",
    "kmeans = KMeans(n_clusters = 10, random_state = 0)\n",
    "clusters = kmeans.fit_predict(data_processed1)\n",
    "kmeans.cluster_centers_"
   ]
  },
  {
   "cell_type": "code",
   "execution_count": null,
   "metadata": {},
   "outputs": [],
   "source": [
    "print(kmeans.cluster_centers_.shape)"
   ]
  },
  {
   "cell_type": "code",
   "execution_count": null,
   "metadata": {},
   "outputs": [],
   "source": [
    "scores =kmeans.score(data_processed1) "
   ]
  },
  {
   "cell_type": "code",
   "execution_count": null,
   "metadata": {},
   "outputs": [],
   "source": [
    "scores"
   ]
  },
  {
   "cell_type": "code",
   "execution_count": null,
   "metadata": {},
   "outputs": [],
   "source": [
    "\n",
    " ->single value /number:  "
   ]
  }
 ],
 "metadata": {
  "kernelspec": {
   "display_name": "Python 3",
   "language": "python",
   "name": "python3"
  },
  "language_info": {
   "codemirror_mode": {
    "name": "ipython",
    "version": 3
   },
   "file_extension": ".py",
   "mimetype": "text/x-python",
   "name": "python",
   "nbconvert_exporter": "python",
   "pygments_lexer": "ipython3",
   "version": "3.8.3"
  }
 },
 "nbformat": 4,
 "nbformat_minor": 4
}
