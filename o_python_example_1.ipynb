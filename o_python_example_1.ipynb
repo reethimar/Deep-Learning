{
 "cells": [
  {
   "cell_type": "code",
   "execution_count": 1,
   "metadata": {},
   "outputs": [],
   "source": [
    "# Loading supporting packages\n",
    "import numpy \n",
    "import pandas as pd\n",
    "import scipy \n",
    "import matplotlib \n",
    "import pyreadline \n",
    "import sklearn\n",
    "import cx_Oracle\n",
    "import oml"
   ]
  },
  {
   "cell_type": "code",
   "execution_count": 2,
   "metadata": {},
   "outputs": [
    {
     "data": {
      "text/plain": [
       "True"
      ]
     },
     "execution_count": 2,
     "metadata": {},
     "output_type": "execute_result"
    }
   ],
   "source": [
    "# Connect to Oracle Database \n",
    "oml.connect(user='MLDEVLX1', password='MLDEVLX1', host='whf00atk.in.oracle.com', port=1521, service_name='MLPDB1')\n",
    "\n",
    "# Verify that the connection exists.\n",
    "oml.isconnected()\n",
    "\n",
    "# Find out whether embedded execution is enabled in the database instance.\n",
    "oml.check_embed()\n",
    "\n",
    "# # Disconnect from the database.\n",
    "# oml.disconnect()\n",
    "# # Verify that the connection has been terminated.\n",
    "# oml.isconnected()"
   ]
  },
  {
   "cell_type": "code",
   "execution_count": 3,
   "metadata": {},
   "outputs": [],
   "source": [
    "# # Pushing data into DB\n",
    "# nr_pd_df = pd.DataFrame({'numeric': [1, 1.4, -4, 3.145, 5, None],\n",
    "#                       'string' : [None, None, 'a', 'a', 'a', 'b'],\n",
    "#                       'bytes' : [b'a', b'b', b'c', b'c', b'd', b'e']})\n",
    "\n",
    "# # Push the data set to a database table with the specified dbtypes for each column.\n",
    "# nr_oml_df = oml.push(nr_pd_df, dbtypes = {'numeric': 'BINARY_DOUBLE','string':'CHAR(1)','bytes':'RAW(1)'})\n",
    "\n",
    "# # Display the data type of oml_df.\n",
    "# print(type(nr_oml_df))\n",
    "\n",
    "# nr_oml_df.head()"
   ]
  },
  {
   "cell_type": "code",
   "execution_count": 4,
   "metadata": {},
   "outputs": [
    {
     "name": "stdout",
     "output_type": "stream",
     "text": [
      "<class 'oml.core.frame.DataFrame'>\n",
      "   Sepal.Length  Sepal.Width  Petal.Length  Petal.Width    Species\n",
      "0           6.7          3.3           5.7          2.5  virginica\n",
      "1           6.7          3.0           5.2          2.3  virginica\n",
      "2           6.3          2.5           5.0          1.9  virginica\n",
      "3           6.5          3.0           5.2          2.0  virginica\n",
      "4           6.2          3.4           5.4          2.3  virginica\n",
      "   Sepal.Length  Sepal.Width  Petal.Length  Petal.Width    Species\n",
      "0           6.9          3.1           5.4          2.1  virginica\n",
      "1           6.7          3.1           5.6          2.4  virginica\n",
      "2           6.9          3.1           5.1          2.3  virginica\n",
      "3           5.8          2.7           5.1          1.9  virginica\n",
      "4           6.8          3.2           5.9          2.3  virginica\n",
      "(150, 5)\n"
     ]
    },
    {
     "data": {
      "text/plain": [
       "['oml_iris']"
      ]
     },
     "execution_count": 4,
     "metadata": {},
     "output_type": "execute_result"
    }
   ],
   "source": [
    "# Accessing DB table via python object\n",
    "oml_iris = oml.sync(table = 'DF_IRIS')\n",
    "\n",
    "print(type(oml_iris))\n",
    "print(oml_iris.head())\n",
    "print(oml_iris.tail())\n",
    "\n",
    "# dimesnions of data frame (Rows,Columns)\n",
    "print(oml_iris.shape)\n",
    "\n",
    "oml.dir()"
   ]
  },
  {
   "cell_type": "code",
   "execution_count": 5,
   "metadata": {},
   "outputs": [],
   "source": [
    "# How to sync all tables \n",
    "# oml.sync()\n",
    "# oml.dir()"
   ]
  },
  {
   "cell_type": "code",
   "execution_count": 6,
   "metadata": {},
   "outputs": [],
   "source": [
    "# # Create table in DB from python object\n",
    "\n",
    "# # cr = oml.cursor()\n",
    "\n",
    "# cars = {'Brand': ['Honda Civic','Toyota Corolla','Ford Focus','Audi A4'],\n",
    "#         'Price': [22000,25000,27000,35000]\n",
    "#         }\n",
    "\n",
    "# df = pd.DataFrame(cars, columns = ['Brand', 'Price'])\n",
    "\n",
    "# print (df)\n",
    "\n",
    "# oml_df1 = oml.create(df, table = 'NR_CARS')\n",
    "\n",
    "# # # Show the default SQL data types of the columns.\n",
    "# # _ = cr.execute(\"select data_type from all_tab_columns where table_name =\n",
    "# # 'NR_CARS'\")\n",
    "# # cr.fetchall()"
   ]
  },
  {
   "cell_type": "code",
   "execution_count": 7,
   "metadata": {},
   "outputs": [],
   "source": [
    "# # Save python objects in DB (datastore)\n",
    "\n",
    "# oml.ds.dir()\n",
    "\n",
    "# nr_list = [1,2,3,4,5]\n",
    "\n",
    "# oml.ds.save(objs={'A':1,'B':2,'C':3,'D':4,'E':5} ,name = \"ds_pylist_nr\", description = \"NR python list\")\n",
    "\n",
    "# sorted(oml.ds.load(\"ds_pylist_nr\"))\n",
    "\n",
    "# # Describe the contents of the ds_pydata datastore.\n",
    "# oml.ds.describe(name='ds_pylist_nr')\n",
    "\n",
    "# # oml.ds.delete(\"ds_pylist_nr\")\n",
    "\n",
    "# oml.ds.dir()"
   ]
  },
  {
   "cell_type": "code",
   "execution_count": 8,
   "metadata": {},
   "outputs": [],
   "source": [
    "# help(oml.DataFrame.corr)\n",
    "# help(oml.esa)"
   ]
  },
  {
   "cell_type": "code",
   "execution_count": 3,
   "metadata": {},
   "outputs": [
    {
     "name": "stdout",
     "output_type": "stream",
     "text": [
      "'HEllO WORLD'\n",
      "HEllO WORLD\n"
     ]
    }
   ],
   "source": [
    "# Python Script   -- example 2\n",
    "\n",
    "# create function first\n",
    "def f1():\n",
    "    return \"HEllO WORLD\"\n",
    "\n",
    "# create python in script repo by 'oml.script.create' command\n",
    "oml.script.create(\"NR_2\",            # Script Name\n",
    "                  func=f1,           # Function Name\n",
    "                  is_global=False,   # Global script ?\n",
    "                  overwrite=True)    # Overwrite ?\n",
    "\n",
    "# Script Execution\n",
    "res = oml.do_eval(\"NR_2\")\n",
    "print(res)\n",
    "print(res.pull())"
   ]
  },
  {
   "cell_type": "code",
   "execution_count": 4,
   "metadata": {},
   "outputs": [
    {
     "name": "stdout",
     "output_type": "stream",
     "text": [
      "function res: \n",
      " [('0demo', 0. , 0, False, b'\\x80\\x03K\\x00.', 'test0')\n",
      " ('1demo', 0.1, 1,  True, b'\\x80\\x03K\\x01.', 'test1')\n",
      " ('2demo', 0.2, 2, False, b'\\x80\\x03K\\x02.', 'test4')\n",
      " ('3demo', 0.3, 3,  True, b'\\x80\\x03K\\x03.', 'test9')\n",
      " ('4demo', 0.4, 4, False, b'\\x80\\x03K\\x04.', 'test16')\n",
      " ('5demo', 0.5, 5,  True, b'\\x80\\x03K\\x05.', 'test25')\n",
      " ('6demo', 0.6, 6, False, b'\\x80\\x03K\\x06.', 'test36')\n",
      " ('7demo', 0.7, 7,  True, b'\\x80\\x03K\\x07.', 'test49')\n",
      " ('8demo', 0.8, 8, False, b'\\x80\\x03K\\x08.', 'test64')\n",
      " ('9demo', 0.9, 9,  True, b'\\x80\\x03K\\t.', 'test81')]\n",
      "\n",
      "script res: \n",
      " array([('0demo', 0. , 0, False, b'\\x80\\x03K\\x00.', 'test0'),\n",
      "       ('1demo', 0.1, 1,  True, b'\\x80\\x03K\\x01.', 'test1'),\n",
      "       ('2demo', 0.2, 2, False, b'\\x80\\x03K\\x02.', 'test4'),\n",
      "       ('3demo', 0.3, 3,  True, b'\\x80\\x03K\\x03.', 'test9'),\n",
      "       ('4demo', 0.4, 4, False, b'\\x80\\x03K\\x04.', 'test16'),\n",
      "       ('5demo', 0.5, 5,  True, b'\\x80\\x03K\\x05.', 'test25'),\n",
      "       ('6demo', 0.6, 6, False, b'\\x80\\x03K\\x06.', 'test36'),\n",
      "       ('7demo', 0.7, 7,  True, b'\\x80\\x03K\\x07.', 'test49'),\n",
      "       ('8demo', 0.8, 8, False, b'\\x80\\x03K\\x08.', 'test64'),\n",
      "       ('9demo', 0.9, 9,  True, b'\\x80\\x03K\\t.', 'test81')],\n",
      "      dtype=[('a', '<U10'), ('b', '<f8'), ('c', '<i4'), ('d', '?'), ('e', 'S20'), ('f', 'O')])\n"
     ]
    }
   ],
   "source": [
    "# Python Script   -- example 3\n",
    "\n",
    "# create function first\n",
    "def return_frame():\n",
    "    import numpy as np\n",
    "    import pickle\n",
    "    z = np.array([y for y in zip([str(x)+\"demo\" for x in range(10)],\n",
    "                [float(x)/10 for x in range(10)],\n",
    "                [x for x in range(10)],\n",
    "                [bool(x%2) for x in range(10)],\n",
    "                [pickle.dumps(x) for x in range(10)],\n",
    "                [\"test\"+str(x**2) for x in range(10)])],\n",
    "            dtype=[(\"a\", \"U10\"), (\"b\", \"f8\"), (\"c\", \"i4\"),\n",
    "                    (\"d\", \"?\"), (\"e\", \"S20\"), (\"f\", \"O\")])\n",
    "    return z\n",
    "\n",
    "print(\"function res: \\n\",return_frame())\n",
    "\n",
    "# create python in script repo by 'oml.script.create' command\n",
    "oml.script.create(\"NR_3\",            # Script Name\n",
    "                  func=return_frame, # Function Name\n",
    "                  is_global=False,   # Global script ?\n",
    "                  overwrite=True)    # Overwrite ?\n",
    "\n",
    "# Script Execution\n",
    "res = oml.do_eval(\"NR_3\")\n",
    "print(\"\\nscript res: \\n\",res)"
   ]
  },
  {
   "cell_type": "code",
   "execution_count": 5,
   "metadata": {},
   "outputs": [
    {
     "name": "stdout",
     "output_type": "stream",
     "text": [
      "<function <lambda> at 0x000001C671F22948>\n",
      "'Hello World from a lambda!'\n"
     ]
    }
   ],
   "source": [
    "# Python Script   -- example 4\n",
    "\n",
    "# create function first\n",
    "func = lambda: \"Hello World from a lambda!\"\n",
    "print(func)\n",
    "\n",
    "\n",
    "#  x=\"some kind of a useless lambda\"\n",
    "# >>> (lambda x : print(x))(x)\n",
    "# # def myfunc(n):\n",
    "# #     return lambda a : a * n\n",
    "\n",
    "# create python in script repo by 'oml.script.create' command\n",
    "oml.script.create(\"NR_4\",            # Script Name\n",
    "                  func=func,         # Function Name\n",
    "                  is_global=False,   # Global script ?\n",
    "                  overwrite=True)    # Overwrite ?\n",
    "\n",
    "# Script Execution\n",
    "print(oml.do_eval(\"NR_4\"))"
   ]
  },
  {
   "cell_type": "code",
   "execution_count": 22,
   "metadata": {},
   "outputs": [
    {
     "name": "stdout",
     "output_type": "stream",
     "text": [
      "'Hello World from a lambda!'\n",
      "'Hello World from a lambda!'\n",
      "'HEllO WORLD'\n",
      "5\n",
      "array([('0demo', 0. , 0, False, b'\\x80\\x03K\\x00.', 'test0'),\n",
      "       ('1demo', 0.1, 1,  True, b'\\x80\\x03K\\x01.', 'test1'),\n",
      "       ('2demo', 0.2, 2, False, b'\\x80\\x03K\\x02.', 'test4'),\n",
      "       ('3demo', 0.3, 3,  True, b'\\x80\\x03K\\x03.', 'test9'),\n",
      "       ('4demo', 0.4, 4, False, b'\\x80\\x03K\\x04.', 'test16'),\n",
      "       ('5demo', 0.5, 5,  True, b'\\x80\\x03K\\x05.', 'test25'),\n",
      "       ('6demo', 0.6, 6, False, b'\\x80\\x03K\\x06.', 'test36'),\n",
      "       ('7demo', 0.7, 7,  True, b'\\x80\\x03K\\x07.', 'test49'),\n",
      "       ('8demo', 0.8, 8, False, b'\\x80\\x03K\\x08.', 'test64'),\n",
      "       ('9demo', 0.9, 9,  True, b'\\x80\\x03K\\t.', 'test81')],\n",
      "      dtype=[('a', '<U10'), ('b', '<f8'), ('c', '<i4'), ('d', '?'), ('e', 'S20'), ('f', 'O')])\n"
     ]
    }
   ],
   "source": [
    "# print(oml.do_eval(\"NR_4\"))\n",
    "# print(oml.do_eval(\"NR_4\"))\n",
    "# print(oml.do_eval(\"NR_2\"))\n",
    "# print(oml.do_eval(\"NR_1\"))\n",
    "# print(oml.do_eval(\"NR_3\"))\n"
   ]
  },
  {
   "cell_type": "code",
   "execution_count": 11,
   "metadata": {},
   "outputs": [
    {
     "name": "stdout",
     "output_type": "stream",
     "text": [
      "'Hello World from a lambda!'\n",
      "'hello World'\n"
     ]
    }
   ],
   "source": [
    "print(oml.do_eval(\"tmpqfun2\"))\n",
    "print(oml.do_eval(\"nr_tmpqfun2\"))"
   ]
  },
  {
   "cell_type": "code",
   "execution_count": 13,
   "metadata": {},
   "outputs": [],
   "source": [
    "oml.disconnect()"
   ]
  },
  {
   "cell_type": "code",
   "execution_count": 12,
   "metadata": {},
   "outputs": [
    {
     "data": {
      "text/html": [
       "<div>\n",
       "<style scoped>\n",
       "    .dataframe tbody tr th:only-of-type {\n",
       "        vertical-align: middle;\n",
       "    }\n",
       "\n",
       "    .dataframe tbody tr th {\n",
       "        vertical-align: top;\n",
       "    }\n",
       "\n",
       "    .dataframe thead th {\n",
       "        text-align: right;\n",
       "    }\n",
       "</style>\n",
       "<table border=\"1\" class=\"dataframe\">\n",
       "  <thead>\n",
       "    <tr style=\"text-align: right;\">\n",
       "      <th></th>\n",
       "      <th>owner</th>\n",
       "      <th>name</th>\n",
       "      <th>script</th>\n",
       "      <th>description</th>\n",
       "      <th>date</th>\n",
       "    </tr>\n",
       "  </thead>\n",
       "  <tbody>\n",
       "    <tr>\n",
       "      <td>0</td>\n",
       "      <td>MLDEVLX1</td>\n",
       "      <td>NR_2</td>\n",
       "      <td>def f1():\\n    return \"HEllO WORLD\"\\n</td>\n",
       "      <td>None</td>\n",
       "      <td>2020-04-03 12:06:04</td>\n",
       "    </tr>\n",
       "    <tr>\n",
       "      <td>1</td>\n",
       "      <td>MLDEVLX1</td>\n",
       "      <td>NR_3</td>\n",
       "      <td>def return_frame():\\n    import numpy as np\\n ...</td>\n",
       "      <td>None</td>\n",
       "      <td>2020-04-06 12:07:36</td>\n",
       "    </tr>\n",
       "    <tr>\n",
       "      <td>2</td>\n",
       "      <td>MLDEVLX1</td>\n",
       "      <td>NR_4</td>\n",
       "      <td>func = lambda: \"Hello World from a lambda!\"\\n</td>\n",
       "      <td>None</td>\n",
       "      <td>2020-04-06 12:29:38</td>\n",
       "    </tr>\n",
       "    <tr>\n",
       "      <td>3</td>\n",
       "      <td>MLDEVLX1</td>\n",
       "      <td>nr_tmpqfun2</td>\n",
       "      <td>def f1(): \\n            return \"hello World\"\\n...</td>\n",
       "      <td>None</td>\n",
       "      <td>2020-05-15 12:28:10</td>\n",
       "    </tr>\n",
       "    <tr>\n",
       "      <td>4</td>\n",
       "      <td>MLDEVLX1</td>\n",
       "      <td>tmpqfun2</td>\n",
       "      <td>func = lambda: \"Hello World from a lambda!\"</td>\n",
       "      <td>None</td>\n",
       "      <td>2020-05-15 12:24:23</td>\n",
       "    </tr>\n",
       "    <tr>\n",
       "      <td>5</td>\n",
       "      <td>PYQSYS</td>\n",
       "      <td>NR_1</td>\n",
       "      <td>def f1():\\n    a = 2\\n    b = 3\\n    c = a+b\\n...</td>\n",
       "      <td>None</td>\n",
       "      <td>2020-04-02 16:26:42</td>\n",
       "    </tr>\n",
       "  </tbody>\n",
       "</table>\n",
       "</div>"
      ],
      "text/plain": [
       "      owner         name                                             script  \\\n",
       "0  MLDEVLX1         NR_2              def f1():\\n    return \"HEllO WORLD\"\\n   \n",
       "1  MLDEVLX1         NR_3  def return_frame():\\n    import numpy as np\\n ...   \n",
       "2  MLDEVLX1         NR_4      func = lambda: \"Hello World from a lambda!\"\\n   \n",
       "3  MLDEVLX1  nr_tmpqfun2  def f1(): \\n            return \"hello World\"\\n...   \n",
       "4  MLDEVLX1     tmpqfun2        func = lambda: \"Hello World from a lambda!\"   \n",
       "5    PYQSYS         NR_1  def f1():\\n    a = 2\\n    b = 3\\n    c = a+b\\n...   \n",
       "\n",
       "  description                date  \n",
       "0        None 2020-04-03 12:06:04  \n",
       "1        None 2020-04-06 12:07:36  \n",
       "2        None 2020-04-06 12:29:38  \n",
       "3        None 2020-05-15 12:28:10  \n",
       "4        None 2020-05-15 12:24:23  \n",
       "5        None 2020-04-02 16:26:42  "
      ]
     },
     "execution_count": 12,
     "metadata": {},
     "output_type": "execute_result"
    }
   ],
   "source": [
    "oml.script.dir(sctype=\"all\")"
   ]
  },
  {
   "cell_type": "code",
   "execution_count": null,
   "metadata": {},
   "outputs": [],
   "source": [
    "oml.isconnected()"
   ]
  },
  {
   "cell_type": "code",
   "execution_count": null,
   "metadata": {},
   "outputs": [],
   "source": [
    "# def f1():\n",
    "#     a = 2\n",
    "#     b = 3\n",
    "#     c = a+b\n",
    "#     return c\n",
    "# oml.script.create(\"NR_1\", func=f1, is_global=False, overwrite=True)\n",
    "# res = oml.do_eval(\"NR_1\")\n",
    "# print(res.pull())"
   ]
  },
  {
   "cell_type": "code",
   "execution_count": null,
   "metadata": {},
   "outputs": [],
   "source": [
    "oml.script.drop(\"NR_5\")"
   ]
  },
  {
   "cell_type": "code",
   "execution_count": null,
   "metadata": {},
   "outputs": [],
   "source": [
    "oml.script.dir(sctype='global')  #'user'"
   ]
  },
  {
   "cell_type": "code",
   "execution_count": null,
   "metadata": {},
   "outputs": [],
   "source": [
    "# oml.ds.dir()"
   ]
  },
  {
   "cell_type": "code",
   "execution_count": null,
   "metadata": {},
   "outputs": [],
   "source": [
    "# # Define a function.\n",
    "# def build_lm1(dat):\n",
    "#     from sklearn import linear_model\n",
    "#     regr = linear_model.LinearRegression()\n",
    "#     import pandas as pd\n",
    "#     dat = pd.get_dummies(dat, drop_first=True)\n",
    "#     X = dat[[\"Sepal_Width\", \"Petal_Length\", \"Petal_Width\",\n",
    "#             \"Species_versicolor\", \"Species_virginica\"]]\n",
    "#     y = dat[[\"Sepal_Length\"]]\n",
    "#     regr.fit(X, y)\n",
    "#     return regr\n",
    "\n",
    "# # Create a private script.\n",
    "# oml.script.create(\"MYLM\", func=build_lm1)\n",
    "# # Evaluate the script through embedded Python"
   ]
  },
  {
   "cell_type": "code",
   "execution_count": null,
   "metadata": {},
   "outputs": [],
   "source": [
    "oml.script.drop(\"MyGlobalLM_function\", is_global=True"
   ]
  },
  {
   "cell_type": "code",
   "execution_count": null,
   "metadata": {},
   "outputs": [],
   "source": []
  }
 ],
 "metadata": {
  "kernelspec": {
   "display_name": "Python 3",
   "language": "python",
   "name": "python3"
  },
  "language_info": {
   "codemirror_mode": {
    "name": "ipython",
    "version": 3
   },
   "file_extension": ".py",
   "mimetype": "text/x-python",
   "name": "python",
   "nbconvert_exporter": "python",
   "pygments_lexer": "ipython3",
   "version": "3.7.4"
  }
 },
 "nbformat": 4,
 "nbformat_minor": 2
}
