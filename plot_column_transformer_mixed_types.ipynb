{
 "cells": [
  {
   "cell_type": "code",
   "execution_count": null,
   "metadata": {},
   "outputs": [],
   "source": [
    "%matplotlib inline"
   ]
  },
  {
   "cell_type": "markdown",
   "metadata": {},
   "source": [
    "\n",
    "# Column Transformer with Mixed Types\n",
    "\n",
    "\n",
    "This example illustrates how to apply different preprocessing and feature\n",
    "extraction pipelines to different subsets of features, using\n",
    ":class:`sklearn.compose.ColumnTransformer`. This is particularly handy for the\n",
    "case of datasets that contain heterogeneous data types, since we may want to\n",
    "scale the numeric features and one-hot encode the categorical ones.\n",
    "\n",
    "In this example, the numeric data is standard-scaled after mean-imputation,\n",
    "while the categorical data is one-hot encoded after imputing missing values\n",
    "with a new category (``'missing'``).\n",
    "\n",
    "In addition, we show two different ways to dispatch the columns to the\n",
    "particular pre-processor: by column names and by column data types.\n",
    "\n",
    "Finally, the preprocessing pipeline is integrated in a full prediction pipeline\n",
    "using :class:`sklearn.pipeline.Pipeline`, together with a simple classification\n",
    "model.\n"
   ]
  },
  {
   "cell_type": "code",
   "execution_count": null,
   "metadata": {},
   "outputs": [],
   "source": [
    "# Author: Pedro Morales <part.morales@gmail.com>\n",
    "#\n",
    "# License: BSD 3 clause\n",
    "\n",
    "import numpy as np\n",
    "\n",
    "from sklearn.compose import ColumnTransformer\n",
    "from sklearn.datasets import fetch_openml\n",
    "from sklearn.pipeline import Pipeline\n",
    "from sklearn.impute import SimpleImputer\n",
    "from sklearn.preprocessing import StandardScaler, OneHotEncoder\n",
    "from sklearn.linear_model import LogisticRegression\n",
    "from sklearn.model_selection import train_test_split, GridSearchCV\n",
    "\n",
    "np.random.seed(0)\n",
    "\n",
    "# Load data from https://www.openml.org/d/40945\n",
    "X, y = fetch_openml(\"titanic\", version=1, as_frame=True, return_X_y=True)\n",
    "\n",
    "# Alternatively X and y can be obtained directly from the frame attribute:\n",
    "# X = titanic.frame.drop('survived', axis=1)\n",
    "# y = titanic.frame['survived']"
   ]
  },
  {
   "cell_type": "markdown",
   "metadata": {},
   "source": [
    "Use ``ColumnTransformer`` by selecting column by names\n",
    "##############################################################################\n",
    " We will train our classifier with the following features:\n",
    "\n",
    " Numeric Features:\n",
    "\n",
    " * ``age``: float;\n",
    " * ``fare``: float.\n",
    "\n",
    " Categorical Features:\n",
    "\n",
    " * ``embarked``: categories encoded as strings ``{'C', 'S', 'Q'}``;\n",
    " * ``sex``: categories encoded as strings ``{'female', 'male'}``;\n",
    " * ``pclass``: ordinal integers ``{1, 2, 3}``.\n",
    "\n",
    " We create the preprocessing pipelines for both numeric and categorical data.\n",
    "\n"
   ]
  },
  {
   "cell_type": "code",
   "execution_count": null,
   "metadata": {},
   "outputs": [],
   "source": [
    "numeric_features = ['age', 'fare']\n",
    "numeric_transformer = Pipeline(steps=[\n",
    "    ('imputer', SimpleImputer(strategy='median')),\n",
    "    ('scaler', StandardScaler())])\n",
    "\n",
    "categorical_features = ['embarked', 'sex', 'pclass']\n",
    "categorical_transformer = Pipeline(steps=[\n",
    "    ('imputer', SimpleImputer(strategy='constant', fill_value='missing')),\n",
    "    ('onehot', OneHotEncoder(handle_unknown='ignore'))])\n",
    "\n",
    "preprocessor = ColumnTransformer(\n",
    "    transformers=[\n",
    "        ('num', numeric_transformer, numeric_features),\n",
    "        ('cat', categorical_transformer, categorical_features)])\n",
    "\n",
    "# Append classifier to preprocessing pipeline.\n",
    "# Now we have a full prediction pipeline.\n",
    "clf = Pipeline(steps=[('preprocessor', preprocessor),\n",
    "                      ('classifier', LogisticRegression())])\n",
    "\n",
    "X_train, X_test, y_train, y_test = train_test_split(X, y, test_size=0.2)\n",
    "\n",
    "clf.fit(X_train, y_train)\n",
    "print(\"model score: %.3f\" % clf.score(X_test, y_test))"
   ]
  },
  {
   "cell_type": "markdown",
   "metadata": {},
   "source": [
    "HTML representation of ``Pipeline``\n",
    "##############################################################################\n",
    " When the ``Pipeline`` is printed out in a jupyter notebook an HTML\n",
    " representation of the estimator is displayed as follows:\n",
    "\n"
   ]
  },
  {
   "cell_type": "code",
   "execution_count": null,
   "metadata": {},
   "outputs": [],
   "source": [
    "from sklearn import set_config\n",
    "set_config(display='diagram')\n",
    "clf"
   ]
  },
  {
   "cell_type": "markdown",
   "metadata": {},
   "source": [
    "Use ``ColumnTransformer`` by selecting column by data types\n",
    "##############################################################################\n",
    " When dealing with a cleaned dataset, the preprocessing can be automatic by\n",
    " using the data types of the column to decide whether to treat a column as a\n",
    " numerical or categorical feature.\n",
    " :func:`sklearn.compose.make_column_selector` gives this possibility.\n",
    " First, let's only select a subset of columns to simplify our\n",
    " example.\n",
    "\n"
   ]
  },
  {
   "cell_type": "code",
   "execution_count": null,
   "metadata": {},
   "outputs": [],
   "source": [
    "subset_feature = ['embarked', 'sex', 'pclass', 'age', 'fare']\n",
    "X = X[subset_feature]"
   ]
  },
  {
   "cell_type": "markdown",
   "metadata": {},
   "source": [
    "Then, we introspect the information regarding each column data type.\n",
    "\n"
   ]
  },
  {
   "cell_type": "code",
   "execution_count": null,
   "metadata": {},
   "outputs": [],
   "source": [
    "X.info()"
   ]
  },
  {
   "cell_type": "markdown",
   "metadata": {},
   "source": [
    "We can observe that the `embarked` and `sex` columns were tagged as\n",
    "`category` columns when loading the data with ``fetch_openml``. Therefore, we\n",
    "can use this information to dispatch the categorical columns to the\n",
    "``categorical_transformer`` and the remaining columns to the\n",
    "``numerical_transformer``.\n",
    "\n"
   ]
  },
  {
   "cell_type": "markdown",
   "metadata": {},
   "source": [
    "<div class=\"alert alert-info\"><h4>Note</h4><p>In practice, you will have to handle yourself the column data type.\n",
    "   If you want some columns to be considered as `category`, you will have to\n",
    "   convert them into categorical columns. If you are using pandas, you can\n",
    "   refer to their documentation regarding `Categorical data\n",
    "   <https://pandas.pydata.org/pandas-docs/stable/user_guide/categorical.html>`_.</p></div>\n",
    "\n"
   ]
  },
  {
   "cell_type": "code",
   "execution_count": null,
   "metadata": {},
   "outputs": [],
   "source": [
    "from sklearn.compose import make_column_selector as selector\n",
    "\n",
    "preprocessor = ColumnTransformer(transformers=[\n",
    "    ('num', numeric_transformer, selector(dtype_exclude=\"category\")),\n",
    "    ('cat', categorical_transformer, selector(dtype_include=\"category\"))\n",
    "])\n",
    "\n",
    "# Reproduce the identical fit/score process\n",
    "X_train, X_test, y_train, y_test = train_test_split(X, y, test_size=0.2)\n",
    "\n",
    "clf.fit(X_train, y_train)\n",
    "print(\"model score: %.3f\" % clf.score(X_test, y_test))"
   ]
  },
  {
   "cell_type": "markdown",
   "metadata": {},
   "source": [
    "Using the prediction pipeline in a grid search\n",
    "##############################################################################\n",
    " Grid search can also be performed on the different preprocessing steps\n",
    " defined in the ``ColumnTransformer`` object, together with the classifier's\n",
    " hyperparameters as part of the ``Pipeline``.\n",
    " We will search for both the imputer strategy of the numeric preprocessing\n",
    " and the regularization parameter of the logistic regression using\n",
    " :class:`sklearn.model_selection.GridSearchCV`.\n",
    "\n"
   ]
  },
  {
   "cell_type": "code",
   "execution_count": null,
   "metadata": {},
   "outputs": [],
   "source": [
    "param_grid = {\n",
    "    'preprocessor__num__imputer__strategy': ['mean', 'median'],\n",
    "    'classifier__C': [0.1, 1.0, 10, 100],\n",
    "}\n",
    "\n",
    "grid_search = GridSearchCV(clf, param_grid, cv=10)\n",
    "grid_search.fit(X_train, y_train)\n",
    "\n",
    "print((\"best logistic regression from grid search: %.3f\"\n",
    "       % grid_search.score(X_test, y_test)))"
   ]
  }
 ],
 "metadata": {
  "kernelspec": {
   "display_name": "Python 3",
   "language": "python",
   "name": "python3"
  },
  "language_info": {
   "codemirror_mode": {
    "name": "ipython",
    "version": 3
   },
   "file_extension": ".py",
   "mimetype": "text/x-python",
   "name": "python",
   "nbconvert_exporter": "python",
   "pygments_lexer": "ipython3",
   "version": "3.8.3"
  }
 },
 "nbformat": 4,
 "nbformat_minor": 1
}
